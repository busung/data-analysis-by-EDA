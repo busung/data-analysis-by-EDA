{
  "nbformat": 4,
  "nbformat_minor": 0,
  "metadata": {
    "colab": {
      "name": "6. 이과가 문과보다 취업을 잘 하는가?.ipynb",
      "provenance": [],
      "collapsed_sections": [],
      "authorship_tag": "ABX9TyPulA1AMuEmLtqiDjumSiP0",
      "include_colab_link": true
    },
    "kernelspec": {
      "name": "python3",
      "display_name": "Python 3"
    },
    "language_info": {
      "name": "python"
    }
  },
  "cells": [
    {
      "cell_type": "markdown",
      "metadata": {
        "id": "view-in-github",
        "colab_type": "text"
      },
      "source": [
        "<a href=\"https://colab.research.google.com/github/busung/data-analysis-by-EDA/blob/main/6_%EC%9D%B4%EA%B3%BC%EA%B0%80_%EB%AC%B8%EA%B3%BC%EB%B3%B4%EB%8B%A4_%EC%B7%A8%EC%97%85%EC%9D%84_%EC%9E%98_%ED%95%98%EB%8A%94%EA%B0%80%3F.ipynb\" target=\"_parent\"><img src=\"https://colab.research.google.com/assets/colab-badge.svg\" alt=\"Open In Colab\"/></a>"
      ]
    },
    {
      "cell_type": "markdown",
      "metadata": {
        "id": "H0sBmhy9zb5a"
      },
      "source": [
        "#이과는 정말 문과보다 취업을 잘 할까?\n",
        "* 이과란? 공학+자연계열만을\n",
        "* 문과란? 인문+사회계열만을\n",
        "  * 전문계열(교육,의약은 전문직으로 현재 논하는 이과의 문과의 취업률과는 별개의 영역으로 취급)\n",
        "  * 취업자란? 교내 + 교외 + 해외 취업자(프래린서 혹은 농업,자영업 등은 일반적인 취업과는 다르기 때문)\n",
        "* 필요한 데이터\n",
        "  * 연도별 계열별 취업 데이터"
      ]
    },
    {
      "cell_type": "code",
      "metadata": {
        "id": "60CXiqlrgQJ8"
      },
      "source": [
        "import pandas as pd"
      ],
      "execution_count": 1,
      "outputs": []
    },
    {
      "cell_type": "code",
      "metadata": {
        "colab": {
          "base_uri": "https://localhost:8080/"
        },
        "id": "EM7cMGE0ggSc",
        "outputId": "d3cde1e8-74bb-4867-f596-dea70065f969"
      },
      "source": [
        "!sudo apt install -y fonts-nanum"
      ],
      "execution_count": 2,
      "outputs": [
        {
          "output_type": "stream",
          "text": [
            "Reading package lists... Done\n",
            "Building dependency tree       \n",
            "Reading state information... Done\n",
            "fonts-nanum is already the newest version (20170925-1).\n",
            "0 upgraded, 0 newly installed, 0 to remove and 39 not upgraded.\n"
          ],
          "name": "stdout"
        }
      ]
    },
    {
      "cell_type": "code",
      "metadata": {
        "id": "LqGwN1GagiMw"
      },
      "source": [
        "import seaborn as sns\n",
        "import matplotlib.pyplot as plt\n",
        "import matplotlib.font_manager as fm\n",
        "\n",
        "from IPython.display import set_matplotlib_formats\n",
        "set_matplotlib_formats(\"retina\")\n",
        "\n",
        "sys_font=fm.findSystemFonts()\n",
        "nanum_font = [f for f in sys_font if 'Nanum' in f]\n",
        "\n",
        "fm._rebuild()\n",
        "\n",
        "# plt.style.use(\"seaborn-whitegrid\")\n",
        "\n",
        "path = \"/usr/share/fonts/truetype/nanum/NanumGothic.ttf\"\n",
        "font_name = fm.FontProperties(fname=path, size=10).get_name()\n",
        "plt.rc(\"font\", family=font_name)\n",
        "plt.rc('axes', unicode_minus=False)"
      ],
      "execution_count": 3,
      "outputs": []
    },
    {
      "cell_type": "markdown",
      "metadata": {
        "id": "7DoZdrLm0eX9"
      },
      "source": [
        "#데이터 불러오기"
      ]
    },
    {
      "cell_type": "code",
      "metadata": {
        "id": "62v2oqYj0d6X"
      },
      "source": [
        "grd_2013 = pd.read_csv(\"/content/Ⅰ-1-2. 2013년 졸업자 하반기 계열별 졸업상황(총괄).CSV\",encoding = \"euc-kr\")\n",
        "grd_2014 = pd.read_csv(\"/content/Ⅰ-1-2. 2014년 졸업자 하반기 계열별 졸업상황(총괄).CSV\",encoding = \"euc-kr\")\n",
        "grd_2015 = pd.read_csv(\"/content/1-1-2_2015년 졸업자 계열별 졸업상황(총괄).CSV\",encoding = \"euc-kr\")\n",
        "grd_2016 = pd.read_csv(\"/content/1-1-2_2016년 졸업자 계열별 졸업상황.csv\",encoding = \"euc-kr\")"
      ],
      "execution_count": 4,
      "outputs": []
    },
    {
      "cell_type": "code",
      "metadata": {
        "colab": {
          "base_uri": "https://localhost:8080/"
        },
        "id": "YczMTpQosWsf",
        "outputId": "740b7bda-3913-4694-d015-957e716d360a"
      },
      "source": [
        "grd_2013.info()"
      ],
      "execution_count": 5,
      "outputs": [
        {
          "output_type": "stream",
          "text": [
            "<class 'pandas.core.frame.DataFrame'>\n",
            "RangeIndex: 52 entries, 0 to 51\n",
            "Data columns (total 35 columns):\n",
            " #   Column            Non-Null Count  Dtype  \n",
            "---  ------            --------------  -----  \n",
            " 0   구분                52 non-null     object \n",
            " 1   졸업자_계             52 non-null     int64  \n",
            " 2   졸업자_여             52 non-null     int64  \n",
            " 3   건강보험및국세DB연계취업률_계  52 non-null     float64\n",
            " 4   건강보험및국세DB연계취업률_여  52 non-null     float64\n",
            " 5   취업자_계             52 non-null     int64  \n",
            " 6   취업자_여             52 non-null     int64  \n",
            " 7   건강보험가입취업자_계       52 non-null     int64  \n",
            " 8   건강보험가입취업자_여       52 non-null     int64  \n",
            " 9   건강보험가입교내취업자_계     52 non-null     object \n",
            " 10  건강보험가입교내취업자_여     52 non-null     object \n",
            " 11  해외취업자_계           52 non-null     object \n",
            " 12  해외취업자_여           52 non-null     object \n",
            " 13  영농업종사자_계          52 non-null     object \n",
            " 14  영농업종사자_여          52 non-null     object \n",
            " 15  개인창작활동종사자_계       52 non-null     object \n",
            " 16  개인창작활동종사자_여       52 non-null     object \n",
            " 17  1인창(사)업자_계        52 non-null     object \n",
            " 18  1인창(사)업자_여        52 non-null     object \n",
            " 19  프리랜서_계            52 non-null     object \n",
            " 20  프리랜서_여            52 non-null     object \n",
            " 21  진학률               52 non-null     object \n",
            " 22  진학자_계             52 non-null     object \n",
            " 23  진학자_여             52 non-null     object \n",
            " 24  입대자               52 non-null     object \n",
            " 25  취업불가능자_계          52 non-null     object \n",
            " 26  취업불가능자_여          52 non-null     object \n",
            " 27  제외인정자_계           52 non-null     object \n",
            " 28  제외인정자_여           52 non-null     object \n",
            " 29  외국인유학생_계          52 non-null     object \n",
            " 30  외국인유학생_여          52 non-null     object \n",
            " 31  기타_계              52 non-null     int64  \n",
            " 32  기타_여              52 non-null     int64  \n",
            " 33  미상_계              52 non-null     object \n",
            " 34  미상_여              52 non-null     object \n",
            "dtypes: float64(2), int64(8), object(25)\n",
            "memory usage: 14.3+ KB\n"
          ],
          "name": "stdout"
        }
      ]
    },
    {
      "cell_type": "code",
      "metadata": {
        "colab": {
          "base_uri": "https://localhost:8080/"
        },
        "id": "SyMvr5UbsaNn",
        "outputId": "82327e45-ed07-42c3-dafc-b9407af654e8"
      },
      "source": [
        "grd_2014.info()"
      ],
      "execution_count": 6,
      "outputs": [
        {
          "output_type": "stream",
          "text": [
            "<class 'pandas.core.frame.DataFrame'>\n",
            "RangeIndex: 53 entries, 0 to 52\n",
            "Data columns (total 35 columns):\n",
            " #   Column            Non-Null Count  Dtype  \n",
            "---  ------            --------------  -----  \n",
            " 0   구분                53 non-null     object \n",
            " 1   졸업자_계             53 non-null     int64  \n",
            " 2   졸업자_여             53 non-null     int64  \n",
            " 3   건강보험및국세DB연계취업률_계  53 non-null     float64\n",
            " 4   건강보험및국세DB연계취업률_여  53 non-null     float64\n",
            " 5   취업자_계             53 non-null     int64  \n",
            " 6   취업자_여             53 non-null     int64  \n",
            " 7   건강보험가입취업자_계       53 non-null     int64  \n",
            " 8   건강보험가입취업자_여       53 non-null     int64  \n",
            " 9   건강보험가입교내취업자_계     53 non-null     object \n",
            " 10  건강보험가입교내취업자_여     53 non-null     object \n",
            " 11  해외취업자_계           53 non-null     object \n",
            " 12  해외취업자_여           53 non-null     object \n",
            " 13  농림어업종사자_계         53 non-null     object \n",
            " 14  농림어업종사자_여         53 non-null     object \n",
            " 15  개인창작활동종사자_계       53 non-null     object \n",
            " 16  개인창작활동종사자_여       53 non-null     object \n",
            " 17  1인창(사)업자_계        53 non-null     object \n",
            " 18  1인창(사)업자_여        53 non-null     object \n",
            " 19  프리랜서_계            53 non-null     object \n",
            " 20  프리랜서_여            53 non-null     object \n",
            " 21  진학률               53 non-null     object \n",
            " 22  진학자_계             53 non-null     object \n",
            " 23  진학자_여             53 non-null     object \n",
            " 24  입대자               53 non-null     object \n",
            " 25  취업불가능자_계          53 non-null     object \n",
            " 26  취업불가능자_여          53 non-null     object \n",
            " 27  외국인유학생_계          53 non-null     object \n",
            " 28  외국인유학생_여          53 non-null     object \n",
            " 29  제외인정자_계           53 non-null     object \n",
            " 30  제외인정자_여           53 non-null     object \n",
            " 31  기타_계              53 non-null     int64  \n",
            " 32  기타_여              53 non-null     int64  \n",
            " 33  미상_계              53 non-null     object \n",
            " 34  미상_여              53 non-null     object \n",
            "dtypes: float64(2), int64(8), object(25)\n",
            "memory usage: 14.6+ KB\n"
          ],
          "name": "stdout"
        }
      ]
    },
    {
      "cell_type": "code",
      "metadata": {
        "colab": {
          "base_uri": "https://localhost:8080/"
        },
        "id": "XFuWplQasaXB",
        "outputId": "ecb3fbcc-36c5-4817-f30b-c5eef8c3ea32"
      },
      "source": [
        "grd_2015.info()"
      ],
      "execution_count": 7,
      "outputs": [
        {
          "output_type": "stream",
          "text": [
            "<class 'pandas.core.frame.DataFrame'>\n",
            "RangeIndex: 53 entries, 0 to 52\n",
            "Data columns (total 51 columns):\n",
            " #   Column               Non-Null Count  Dtype  \n",
            "---  ------               --------------  -----  \n",
            " 0   구분                   53 non-null     object \n",
            " 1   졸업자_계                53 non-null     int64  \n",
            " 2   졸업자_남                53 non-null     int64  \n",
            " 3   졸업자_여                53 non-null     int64  \n",
            " 4   건강보험 및 국세DB연계 취업률_계  53 non-null     float64\n",
            " 5   건강보험 및 국세DB연계 취업률_남  53 non-null     float64\n",
            " 6   건강보험 및 국세DB연계 취업률_여  53 non-null     float64\n",
            " 7   취업자_합계               53 non-null     int64  \n",
            " 8   취업자_남                53 non-null     int64  \n",
            " 9   취업자_여                53 non-null     int64  \n",
            " 10  건강보험가입취업자_계          53 non-null     int64  \n",
            " 11  건강보험가입취업자_남          53 non-null     object \n",
            " 12  건강보험가입취업자_여          53 non-null     int64  \n",
            " 13  건강보험가입교내취업자_계        53 non-null     object \n",
            " 14  건강보험가입교내취업자_남        53 non-null     object \n",
            " 15  건강보험가입교내취업자_여        53 non-null     object \n",
            " 16  해외취업자_계              53 non-null     object \n",
            " 17  해외취업자_남              53 non-null     object \n",
            " 18  해외취업자_여              53 non-null     object \n",
            " 19  농림어업종사자_계            53 non-null     object \n",
            " 20  농림어업종사자_남            53 non-null     object \n",
            " 21  농림어업종사자_여            53 non-null     object \n",
            " 22  개인창작활동종사자_계          53 non-null     object \n",
            " 23  개인창작활동종사자_남          53 non-null     object \n",
            " 24  개인창작활동종사자_여          53 non-null     object \n",
            " 25  1인창(사)업자_계           53 non-null     object \n",
            " 26  1인창(사)업자_남           53 non-null     object \n",
            " 27  1인창(사)업자_여           53 non-null     object \n",
            " 28  프리랜서_계               53 non-null     object \n",
            " 29  프리랜서_남               53 non-null     object \n",
            " 30  프리랜서_여               53 non-null     object \n",
            " 31  진학률_계                53 non-null     object \n",
            " 32  진학자_계                53 non-null     object \n",
            " 33  진학자_남                53 non-null     object \n",
            " 34  진학자_여                53 non-null     object \n",
            " 35  입대자                  53 non-null     object \n",
            " 36  취업불가능자_계             53 non-null     object \n",
            " 37  취업불가능자_남             53 non-null     object \n",
            " 38  취업불가능자_여             53 non-null     object \n",
            " 39  외국인유학생_계             53 non-null     object \n",
            " 40  외국인유학생_남             53 non-null     object \n",
            " 41  외국인유학생_여             53 non-null     object \n",
            " 42  제외인정자_계              53 non-null     object \n",
            " 43  제외인정자_남              53 non-null     object \n",
            " 44  제외인정자_여              53 non-null     object \n",
            " 45  기타_계                 53 non-null     int64  \n",
            " 46  기타_남                 53 non-null     object \n",
            " 47  기타_여                 53 non-null     object \n",
            " 48  미상_계                 53 non-null     object \n",
            " 49  미상_남                 53 non-null     object \n",
            " 50  미상_여                 53 non-null     object \n",
            "dtypes: float64(3), int64(9), object(39)\n",
            "memory usage: 21.2+ KB\n"
          ],
          "name": "stdout"
        }
      ]
    },
    {
      "cell_type": "code",
      "metadata": {
        "colab": {
          "base_uri": "https://localhost:8080/"
        },
        "id": "Ylsjc43msafG",
        "outputId": "09759dea-1ac7-412e-9a70-abb12003b412"
      },
      "source": [
        "grd_2016.info()"
      ],
      "execution_count": 8,
      "outputs": [
        {
          "output_type": "stream",
          "text": [
            "<class 'pandas.core.frame.DataFrame'>\n",
            "RangeIndex: 53 entries, 0 to 52\n",
            "Data columns (total 51 columns):\n",
            " #   Column               Non-Null Count  Dtype  \n",
            "---  ------               --------------  -----  \n",
            " 0   구분                   53 non-null     object \n",
            " 1   졸업자_계                53 non-null     int64  \n",
            " 2   졸업자_남                53 non-null     int64  \n",
            " 3   졸업자_여                53 non-null     int64  \n",
            " 4   건강보험 및 국세DB연계 취업률_계  53 non-null     float64\n",
            " 5   건강보험 및 국세DB연계 취업률_남  53 non-null     float64\n",
            " 6   건강보험 및 국세DB연계 취업률_여  53 non-null     float64\n",
            " 7   취업자_합계               53 non-null     int64  \n",
            " 8   취업자_남                53 non-null     int64  \n",
            " 9   취업자_여                53 non-null     int64  \n",
            " 10  건강보험가입교외취업자_계        53 non-null     int64  \n",
            " 11  건강보험가입교외취업자_남        53 non-null     int64  \n",
            " 12  건강보험가입교외취업자_여        53 non-null     int64  \n",
            " 13  건강보험가입교내취업자_계        53 non-null     object \n",
            " 14  건강보험가입교내취업자_남        53 non-null     object \n",
            " 15  건강보험가입교내취업자_여        53 non-null     object \n",
            " 16  해외취업자_계              53 non-null     object \n",
            " 17  해외취업자_남              53 non-null     object \n",
            " 18  해외취업자_여              53 non-null     object \n",
            " 19  농림어업종사자_계            53 non-null     object \n",
            " 20  농림어업종사자_남            53 non-null     object \n",
            " 21  농림어업종사자_여            53 non-null     object \n",
            " 22  개인창작활동종사자_계          53 non-null     object \n",
            " 23  개인창작활동종사자_남          53 non-null     object \n",
            " 24  개인창작활동종사자_여          53 non-null     object \n",
            " 25  1인창(사)업자_계           53 non-null     object \n",
            " 26  1인창(사)업자_남           53 non-null     object \n",
            " 27  1인창(사)업자_여           53 non-null     object \n",
            " 28  프리랜서_계               53 non-null     object \n",
            " 29  프리랜서_남               53 non-null     object \n",
            " 30  프리랜서_여               53 non-null     object \n",
            " 31  진학률_계                53 non-null     object \n",
            " 32  진학자_계                53 non-null     object \n",
            " 33  진학자_남                53 non-null     object \n",
            " 34  진학자_여                53 non-null     object \n",
            " 35  입대자                  53 non-null     object \n",
            " 36  취업불가능자_계             53 non-null     object \n",
            " 37  취업불가능자_남             53 non-null     object \n",
            " 38  취업불가능자_여             53 non-null     object \n",
            " 39  외국인유학생_계             53 non-null     object \n",
            " 40  외국인유학생_남             53 non-null     object \n",
            " 41  외국인유학생_여             53 non-null     object \n",
            " 42  제외인정자_계              53 non-null     object \n",
            " 43  제외인정자_남              53 non-null     object \n",
            " 44  제외인정자_여              53 non-null     object \n",
            " 45  기타_계                 53 non-null     int64  \n",
            " 46  기타_남                 53 non-null     object \n",
            " 47  기타_여                 53 non-null     int64  \n",
            " 48  미상_계                 53 non-null     object \n",
            " 49  미상_남                 53 non-null     object \n",
            " 50  미상_여                 53 non-null     object \n",
            "dtypes: float64(3), int64(11), object(37)\n",
            "memory usage: 21.2+ KB\n"
          ],
          "name": "stdout"
        }
      ]
    },
    {
      "cell_type": "markdown",
      "metadata": {
        "id": "_NVtvq0wsfWP"
      },
      "source": [
        "#연도별 이과 문과 취업률 차이"
      ]
    },
    {
      "cell_type": "markdown",
      "metadata": {
        "id": "I99ZXAaaGJbo"
      },
      "source": [
        "##데이터 전처리"
      ]
    },
    {
      "cell_type": "code",
      "metadata": {
        "id": "86-grzsl08zm"
      },
      "source": [
        "grd_2013.set_index(['구분'],inplace=True)\n",
        "data_2013 = pd.DataFrame(grd_2013.filter(regex='자연',axis='index').iloc[0])\n",
        "list_ = ['공학','인문','사회',]\n",
        "for i in list_:\n",
        "  temp = pd.DataFrame(grd_2013.filter(regex=i,axis='index').iloc[0])\n",
        "  data_2013 = pd.concat([data_2013,temp],axis=1)\n",
        "\n",
        "data_2013=data_2013.T\n",
        "data_2013.reset_index(inplace=True)\n",
        "data_2013.index = ['2013' for i in range(4)]\n",
        "data_2013=data_2013[['index','졸업자_계','취업자_계','건강보험가입취업자_계','건강보험가입교내취업자_계','해외취업자_계']]\n",
        "data_2013.columns = ['계열','졸업자','취업자','교외취업자','교내취업자','해외']"
      ],
      "execution_count": 9,
      "outputs": []
    },
    {
      "cell_type": "code",
      "metadata": {
        "id": "mzgrwVnuFgj9"
      },
      "source": [
        "grd_2014.set_index(['구분'],inplace=True)\n",
        "data_2014 = pd.DataFrame(grd_2014.filter(regex='자연',axis='index').iloc[0])\n",
        "list_ = ['공학','인문','사회',]\n",
        "for i in list_:\n",
        "  temp = pd.DataFrame(grd_2014.filter(regex=i,axis='index').iloc[0])\n",
        "  data_2014 = pd.concat([data_2014,temp],axis=1)\n",
        "\n",
        "data_2014=data_2014.T\n",
        "data_2014.reset_index(inplace=True)\n",
        "data_2014.index = ['2014' for i in range(4)]\n",
        "data_2014 = data_2014[['index','졸업자_계','취업자_계','건강보험가입취업자_계','건강보험가입교내취업자_계','해외취업자_계']]\n",
        "data_2014.columns = ['계열','졸업자','취업자','교외취업자','교내취업자','해외']"
      ],
      "execution_count": 10,
      "outputs": []
    },
    {
      "cell_type": "code",
      "metadata": {
        "id": "dIqZz4PjE7ST"
      },
      "source": [
        "grd_2015.set_index(['구분'],inplace=True)\n",
        "data_2015 = pd.DataFrame(grd_2015.filter(regex='자연',axis='index').iloc[0])\n",
        "list_ = ['공학','인문','사회',]\n",
        "for i in list_:\n",
        "  temp = pd.DataFrame(grd_2015.filter(regex=i,axis='index').iloc[0])\n",
        "  data_2015 = pd.concat([data_2015,temp],axis=1)\n",
        "\n",
        "data_2015=data_2015.T\n",
        "data_2015.reset_index(inplace=True)\n",
        "data_2015.index = ['2015' for i in range(4)]\n",
        "data_2015=data_2015[['index','졸업자_계','취업자_합계','건강보험가입취업자_계','건강보험가입교내취업자_계','해외취업자_계']]\n",
        "data_2015.columns = ['계열','졸업자','취업자','교외취업자','교내취업자','해외']"
      ],
      "execution_count": 11,
      "outputs": []
    },
    {
      "cell_type": "code",
      "metadata": {
        "id": "PKLwUQkOF7ja"
      },
      "source": [
        "grd_2016.set_index(['구분'],inplace=True)\n",
        "data_2016 = pd.DataFrame(grd_2016.filter(regex='자연',axis='index').iloc[0])\n",
        "list_ = ['공학','인문','사회',]\n",
        "for i in list_:\n",
        "  temp = pd.DataFrame(grd_2016.filter(regex=i,axis='index').iloc[0])\n",
        "  data_2016 = pd.concat([data_2016,temp],axis=1)\n",
        "\n",
        "data_2016=data_2016.T\n",
        "data_2016.reset_index(inplace=True)\n",
        "data_2016.index = ['2016' for i in range(4)]\n",
        "data_2016=data_2016[['index','졸업자_계','취업자_합계','건강보험가입교외취업자_계','건강보험가입교내취업자_계','해외취업자_계']]\n",
        "data_2016.columns = ['계열','졸업자','취업자','교외취업자','교내취업자','해외']"
      ],
      "execution_count": 12,
      "outputs": []
    },
    {
      "cell_type": "code",
      "metadata": {
        "colab": {
          "base_uri": "https://localhost:8080/",
          "height": 545
        },
        "id": "JLMUKmZlHm6B",
        "outputId": "f0783f67-1b74-4787-db22-713f0e201e65"
      },
      "source": [
        "final_data = pd.concat([data_2013,data_2014,data_2015,data_2016])\n",
        "final_data.reset_index(inplace=True)\n",
        "final_data=final_data.rename(columns={'index':'년도'})\n",
        "\n",
        "final_data['교외취업자']=pd.to_numeric(final_data['교외취업자'])\n",
        "final_data['교내취업자']=pd.to_numeric(final_data['교내취업자'])\n",
        "final_data['해외']=pd.to_numeric(final_data['해외'])\n",
        "final_data['졸업자']=pd.to_numeric(final_data['졸업자'])\n",
        "final_data['취업자']=final_data['교외취업자']+final_data['교내취업자']+final_data['해외']\n",
        "final_data"
      ],
      "execution_count": 13,
      "outputs": [
        {
          "output_type": "execute_result",
          "data": {
            "text/html": [
              "<div>\n",
              "<style scoped>\n",
              "    .dataframe tbody tr th:only-of-type {\n",
              "        vertical-align: middle;\n",
              "    }\n",
              "\n",
              "    .dataframe tbody tr th {\n",
              "        vertical-align: top;\n",
              "    }\n",
              "\n",
              "    .dataframe thead th {\n",
              "        text-align: right;\n",
              "    }\n",
              "</style>\n",
              "<table border=\"1\" class=\"dataframe\">\n",
              "  <thead>\n",
              "    <tr style=\"text-align: right;\">\n",
              "      <th></th>\n",
              "      <th>년도</th>\n",
              "      <th>계열</th>\n",
              "      <th>졸업자</th>\n",
              "      <th>취업자</th>\n",
              "      <th>교외취업자</th>\n",
              "      <th>교내취업자</th>\n",
              "      <th>해외</th>\n",
              "    </tr>\n",
              "  </thead>\n",
              "  <tbody>\n",
              "    <tr>\n",
              "      <th>0</th>\n",
              "      <td>2013</td>\n",
              "      <td>자연계열</td>\n",
              "      <td>58328</td>\n",
              "      <td>28543</td>\n",
              "      <td>27065</td>\n",
              "      <td>1306</td>\n",
              "      <td>172</td>\n",
              "    </tr>\n",
              "    <tr>\n",
              "      <th>1</th>\n",
              "      <td>2013</td>\n",
              "      <td>공학계열</td>\n",
              "      <td>136067</td>\n",
              "      <td>87207</td>\n",
              "      <td>85666</td>\n",
              "      <td>1385</td>\n",
              "      <td>156</td>\n",
              "    </tr>\n",
              "    <tr>\n",
              "      <th>2</th>\n",
              "      <td>2013</td>\n",
              "      <td>인문계열</td>\n",
              "      <td>50925</td>\n",
              "      <td>21001</td>\n",
              "      <td>19114</td>\n",
              "      <td>1629</td>\n",
              "      <td>258</td>\n",
              "    </tr>\n",
              "    <tr>\n",
              "      <th>3</th>\n",
              "      <td>2013</td>\n",
              "      <td>사회계열</td>\n",
              "      <td>157552</td>\n",
              "      <td>83895</td>\n",
              "      <td>80814</td>\n",
              "      <td>2760</td>\n",
              "      <td>321</td>\n",
              "    </tr>\n",
              "    <tr>\n",
              "      <th>4</th>\n",
              "      <td>2014</td>\n",
              "      <td>자연계열</td>\n",
              "      <td>59564</td>\n",
              "      <td>28731</td>\n",
              "      <td>27203</td>\n",
              "      <td>1374</td>\n",
              "      <td>154</td>\n",
              "    </tr>\n",
              "    <tr>\n",
              "      <th>5</th>\n",
              "      <td>2014</td>\n",
              "      <td>공학계열</td>\n",
              "      <td>135797</td>\n",
              "      <td>84384</td>\n",
              "      <td>82779</td>\n",
              "      <td>1416</td>\n",
              "      <td>189</td>\n",
              "    </tr>\n",
              "    <tr>\n",
              "      <th>6</th>\n",
              "      <td>2014</td>\n",
              "      <td>인문계열</td>\n",
              "      <td>50051</td>\n",
              "      <td>20423</td>\n",
              "      <td>18743</td>\n",
              "      <td>1435</td>\n",
              "      <td>245</td>\n",
              "    </tr>\n",
              "    <tr>\n",
              "      <th>7</th>\n",
              "      <td>2014</td>\n",
              "      <td>사회계열</td>\n",
              "      <td>155559</td>\n",
              "      <td>82662</td>\n",
              "      <td>79378</td>\n",
              "      <td>2977</td>\n",
              "      <td>307</td>\n",
              "    </tr>\n",
              "    <tr>\n",
              "      <th>8</th>\n",
              "      <td>2015</td>\n",
              "      <td>자연계열</td>\n",
              "      <td>62138</td>\n",
              "      <td>30538</td>\n",
              "      <td>28862</td>\n",
              "      <td>1473</td>\n",
              "      <td>203</td>\n",
              "    </tr>\n",
              "    <tr>\n",
              "      <th>9</th>\n",
              "      <td>2015</td>\n",
              "      <td>공학계열</td>\n",
              "      <td>141717</td>\n",
              "      <td>87653</td>\n",
              "      <td>85906</td>\n",
              "      <td>1474</td>\n",
              "      <td>273</td>\n",
              "    </tr>\n",
              "    <tr>\n",
              "      <th>10</th>\n",
              "      <td>2015</td>\n",
              "      <td>인문계열</td>\n",
              "      <td>53128</td>\n",
              "      <td>22221</td>\n",
              "      <td>20428</td>\n",
              "      <td>1458</td>\n",
              "      <td>335</td>\n",
              "    </tr>\n",
              "    <tr>\n",
              "      <th>11</th>\n",
              "      <td>2015</td>\n",
              "      <td>사회계열</td>\n",
              "      <td>159040</td>\n",
              "      <td>85806</td>\n",
              "      <td>82460</td>\n",
              "      <td>2930</td>\n",
              "      <td>416</td>\n",
              "    </tr>\n",
              "    <tr>\n",
              "      <th>12</th>\n",
              "      <td>2016</td>\n",
              "      <td>자연계열</td>\n",
              "      <td>62826</td>\n",
              "      <td>30876</td>\n",
              "      <td>29232</td>\n",
              "      <td>1353</td>\n",
              "      <td>291</td>\n",
              "    </tr>\n",
              "    <tr>\n",
              "      <th>13</th>\n",
              "      <td>2016</td>\n",
              "      <td>공학계열</td>\n",
              "      <td>145137</td>\n",
              "      <td>88685</td>\n",
              "      <td>86931</td>\n",
              "      <td>1345</td>\n",
              "      <td>409</td>\n",
              "    </tr>\n",
              "    <tr>\n",
              "      <th>14</th>\n",
              "      <td>2016</td>\n",
              "      <td>인문계열</td>\n",
              "      <td>53846</td>\n",
              "      <td>22823</td>\n",
              "      <td>20951</td>\n",
              "      <td>1335</td>\n",
              "      <td>537</td>\n",
              "    </tr>\n",
              "    <tr>\n",
              "      <th>15</th>\n",
              "      <td>2016</td>\n",
              "      <td>사회계열</td>\n",
              "      <td>157230</td>\n",
              "      <td>85704</td>\n",
              "      <td>82443</td>\n",
              "      <td>2516</td>\n",
              "      <td>745</td>\n",
              "    </tr>\n",
              "  </tbody>\n",
              "</table>\n",
              "</div>"
            ],
            "text/plain": [
              "      년도    계열     졸업자    취업자  교외취업자  교내취업자   해외\n",
              "0   2013  자연계열   58328  28543  27065   1306  172\n",
              "1   2013  공학계열  136067  87207  85666   1385  156\n",
              "2   2013  인문계열   50925  21001  19114   1629  258\n",
              "3   2013  사회계열  157552  83895  80814   2760  321\n",
              "4   2014  자연계열   59564  28731  27203   1374  154\n",
              "5   2014  공학계열  135797  84384  82779   1416  189\n",
              "6   2014  인문계열   50051  20423  18743   1435  245\n",
              "7   2014  사회계열  155559  82662  79378   2977  307\n",
              "8   2015  자연계열   62138  30538  28862   1473  203\n",
              "9   2015  공학계열  141717  87653  85906   1474  273\n",
              "10  2015  인문계열   53128  22221  20428   1458  335\n",
              "11  2015  사회계열  159040  85806  82460   2930  416\n",
              "12  2016  자연계열   62826  30876  29232   1353  291\n",
              "13  2016  공학계열  145137  88685  86931   1345  409\n",
              "14  2016  인문계열   53846  22823  20951   1335  537\n",
              "15  2016  사회계열  157230  85704  82443   2516  745"
            ]
          },
          "metadata": {
            "tags": []
          },
          "execution_count": 13
        }
      ]
    },
    {
      "cell_type": "code",
      "metadata": {
        "id": "WD5NY-mYH4W4"
      },
      "source": [
        "data_pivot = final_data.pivot_table(index=['계열','년도'],values=['졸업자','취업자'])\n",
        "# data_pivot['취업률']=data_pivot['취업자']/data_pivot['졸업자']*100\n",
        "for i in range(2013,2017):\n",
        "  data_pivot.loc[('이과',str(i)),'졸업자']=data_pivot.loc[('공학계열',str(i)),'졸업자']+data_pivot.loc[('자연계열',str(i)),'졸업자']\n",
        "for i in range(2013,2017):\n",
        "  data_pivot.loc[('이과',str(i)),'취업자']=data_pivot.loc[('공학계열',str(i)),'취업자']+data_pivot.loc[('자연계열',str(i)),'취업자']\n",
        "for i in range(2013,2017):\n",
        "  data_pivot.loc[('문과',str(i)),'졸업자']=data_pivot.loc[('사회계열',str(i)),'졸업자']+data_pivot.loc[('인문계열',str(i)),'졸업자']\n",
        "for i in range(2013,2017):\n",
        "  data_pivot.loc[('문과',str(i)),'취업자']=data_pivot.loc[('사회계열',str(i)),'취업자']+data_pivot.loc[('인문계열',str(i)),'취업자']\n",
        "\n",
        "final_moon= data_pivot.loc[['문과']]\n",
        "final_lee=data_pivot.loc[['이과']]"
      ],
      "execution_count": 14,
      "outputs": []
    },
    {
      "cell_type": "code",
      "metadata": {
        "id": "-7cHI61bfvm1"
      },
      "source": [
        "final_moon['취업률']=final_moon['취업자']/final_moon['졸업자'] * 100\n",
        "final_lee['취업률']=final_lee['취업자']/final_lee['졸업자'] * 100\n",
        "final_moon.reset_index(inplace=True)\n",
        "final_lee.reset_index(inplace=True)"
      ],
      "execution_count": 15,
      "outputs": []
    },
    {
      "cell_type": "code",
      "metadata": {
        "colab": {
          "base_uri": "https://localhost:8080/",
          "height": 173
        },
        "id": "orRqUPyFgY4f",
        "outputId": "cc6aef69-078e-40cb-c2ee-876254c98d12"
      },
      "source": [
        "final_moon"
      ],
      "execution_count": 29,
      "outputs": [
        {
          "output_type": "execute_result",
          "data": {
            "text/html": [
              "<div>\n",
              "<style scoped>\n",
              "    .dataframe tbody tr th:only-of-type {\n",
              "        vertical-align: middle;\n",
              "    }\n",
              "\n",
              "    .dataframe tbody tr th {\n",
              "        vertical-align: top;\n",
              "    }\n",
              "\n",
              "    .dataframe thead th {\n",
              "        text-align: right;\n",
              "    }\n",
              "</style>\n",
              "<table border=\"1\" class=\"dataframe\">\n",
              "  <thead>\n",
              "    <tr style=\"text-align: right;\">\n",
              "      <th></th>\n",
              "      <th>계열</th>\n",
              "      <th>년도</th>\n",
              "      <th>졸업자</th>\n",
              "      <th>취업자</th>\n",
              "      <th>취업률</th>\n",
              "    </tr>\n",
              "  </thead>\n",
              "  <tbody>\n",
              "    <tr>\n",
              "      <th>0</th>\n",
              "      <td>문과</td>\n",
              "      <td>2013</td>\n",
              "      <td>208477.0</td>\n",
              "      <td>104896.0</td>\n",
              "      <td>50.315383</td>\n",
              "    </tr>\n",
              "    <tr>\n",
              "      <th>1</th>\n",
              "      <td>문과</td>\n",
              "      <td>2014</td>\n",
              "      <td>205610.0</td>\n",
              "      <td>103085.0</td>\n",
              "      <td>50.136180</td>\n",
              "    </tr>\n",
              "    <tr>\n",
              "      <th>2</th>\n",
              "      <td>문과</td>\n",
              "      <td>2015</td>\n",
              "      <td>212168.0</td>\n",
              "      <td>108027.0</td>\n",
              "      <td>50.915784</td>\n",
              "    </tr>\n",
              "    <tr>\n",
              "      <th>3</th>\n",
              "      <td>문과</td>\n",
              "      <td>2016</td>\n",
              "      <td>211076.0</td>\n",
              "      <td>108527.0</td>\n",
              "      <td>51.416078</td>\n",
              "    </tr>\n",
              "  </tbody>\n",
              "</table>\n",
              "</div>"
            ],
            "text/plain": [
              "   계열    년도       졸업자       취업자        취업률\n",
              "0  문과  2013  208477.0  104896.0  50.315383\n",
              "1  문과  2014  205610.0  103085.0  50.136180\n",
              "2  문과  2015  212168.0  108027.0  50.915784\n",
              "3  문과  2016  211076.0  108527.0  51.416078"
            ]
          },
          "metadata": {
            "tags": []
          },
          "execution_count": 29
        }
      ]
    },
    {
      "cell_type": "code",
      "metadata": {
        "colab": {
          "base_uri": "https://localhost:8080/",
          "height": 173
        },
        "id": "hhcT07wUhIae",
        "outputId": "2d83eb56-cc7b-4080-c532-6e73b78ffefb"
      },
      "source": [
        "final_lee"
      ],
      "execution_count": 30,
      "outputs": [
        {
          "output_type": "execute_result",
          "data": {
            "text/html": [
              "<div>\n",
              "<style scoped>\n",
              "    .dataframe tbody tr th:only-of-type {\n",
              "        vertical-align: middle;\n",
              "    }\n",
              "\n",
              "    .dataframe tbody tr th {\n",
              "        vertical-align: top;\n",
              "    }\n",
              "\n",
              "    .dataframe thead th {\n",
              "        text-align: right;\n",
              "    }\n",
              "</style>\n",
              "<table border=\"1\" class=\"dataframe\">\n",
              "  <thead>\n",
              "    <tr style=\"text-align: right;\">\n",
              "      <th></th>\n",
              "      <th>계열</th>\n",
              "      <th>년도</th>\n",
              "      <th>졸업자</th>\n",
              "      <th>취업자</th>\n",
              "      <th>취업률</th>\n",
              "    </tr>\n",
              "  </thead>\n",
              "  <tbody>\n",
              "    <tr>\n",
              "      <th>0</th>\n",
              "      <td>이과</td>\n",
              "      <td>2013</td>\n",
              "      <td>194395.0</td>\n",
              "      <td>115750.0</td>\n",
              "      <td>59.543713</td>\n",
              "    </tr>\n",
              "    <tr>\n",
              "      <th>1</th>\n",
              "      <td>이과</td>\n",
              "      <td>2014</td>\n",
              "      <td>195361.0</td>\n",
              "      <td>113115.0</td>\n",
              "      <td>57.900502</td>\n",
              "    </tr>\n",
              "    <tr>\n",
              "      <th>2</th>\n",
              "      <td>이과</td>\n",
              "      <td>2015</td>\n",
              "      <td>203855.0</td>\n",
              "      <td>118191.0</td>\n",
              "      <td>57.977975</td>\n",
              "    </tr>\n",
              "    <tr>\n",
              "      <th>3</th>\n",
              "      <td>이과</td>\n",
              "      <td>2016</td>\n",
              "      <td>207963.0</td>\n",
              "      <td>119561.0</td>\n",
              "      <td>57.491477</td>\n",
              "    </tr>\n",
              "  </tbody>\n",
              "</table>\n",
              "</div>"
            ],
            "text/plain": [
              "   계열    년도       졸업자       취업자        취업률\n",
              "0  이과  2013  194395.0  115750.0  59.543713\n",
              "1  이과  2014  195361.0  113115.0  57.900502\n",
              "2  이과  2015  203855.0  118191.0  57.977975\n",
              "3  이과  2016  207963.0  119561.0  57.491477"
            ]
          },
          "metadata": {
            "tags": []
          },
          "execution_count": 30
        }
      ]
    },
    {
      "cell_type": "markdown",
      "metadata": {
        "id": "iup8Okf-h2Bf"
      },
      "source": [
        "##시각화"
      ]
    },
    {
      "cell_type": "code",
      "metadata": {
        "colab": {
          "base_uri": "https://localhost:8080/",
          "height": 286
        },
        "id": "JpzOsWxTgM4B",
        "outputId": "20e822cf-2958-48c5-b7db-b1c7063fde4f"
      },
      "source": [
        "plt.plot(final_lee['년도'],final_lee['취업률'])\n",
        "plt.plot(final_moon['년도'],final_moon['취업률'])"
      ],
      "execution_count": 16,
      "outputs": [
        {
          "output_type": "execute_result",
          "data": {
            "text/plain": [
              "[<matplotlib.lines.Line2D at 0x7fdf46ac8f10>]"
            ]
          },
          "metadata": {
            "tags": []
          },
          "execution_count": 16
        },
        {
          "output_type": "display_data",
          "data": {
            "image/png": "[encoded data removed]",
            "text/plain": [
              "<Figure size 432x288 with 1 Axes>"
            ]
          },
          "metadata": {
            "tags": [],
            "image/png": {
              "width": 368,
              "height": 251
            },
            "needs_background": "light"
          }
        }
      ]
    },
    {
      "cell_type": "markdown",
      "metadata": {
        "id": "oKf8Qux5ssSQ"
      },
      "source": [
        "#학교별 문과 이과 취업률 비교"
      ]
    },
    {
      "cell_type": "markdown",
      "metadata": {
        "id": "eLuuTDZqsvog"
      },
      "source": [
        "##전처리"
      ]
    },
    {
      "cell_type": "code",
      "metadata": {
        "id": "ru1h6Z5Ho2VV"
      },
      "source": [
        "data_2013=grd_2013.reset_index()\n",
        "data_2013['대학']=data_2013['구분']\n",
        "data_2013 = data_2013[['대학','구분','졸업자_계','취업자_계','건강보험가입취업자_계','건강보험가입교내취업자_계','해외취업자_계']]\n",
        "data_2013.columns = ['대학','계열','졸업자','취업자','교외취업자','교내취업자','해외']\n",
        "for i in range(1,len(data_2013['대학'])):\n",
        "  if '대학'not in data_2013.loc[i,'대학']:\n",
        "    data_2013.loc[i,'대학'] = None\n",
        "data_2013.fillna(method='pad',inplace=True)"
      ],
      "execution_count": 17,
      "outputs": []
    },
    {
      "cell_type": "code",
      "metadata": {
        "id": "qcYFUDCO32S_"
      },
      "source": [
        "clean_2013_moon=data_2013[data_2013['계열'].str.contains('인문|사회')].iloc[3:]\n",
        "clean_2013_moon.index = ['2013' for i in range(len(clean_2013_moon['계열']))]\n",
        "clean_2013_lee=data_2013[data_2013['계열'].str.contains('공학|자연')].iloc[3:]\n",
        "clean_2013_lee.index = ['2013' for i in range(len(clean_2013_lee['계열']))]"
      ],
      "execution_count": 18,
      "outputs": []
    },
    {
      "cell_type": "code",
      "metadata": {
        "id": "9gZUbPtV6L6_"
      },
      "source": [
        "data_2014=grd_2014.reset_index()\n",
        "data_2014['대학']=data_2014['구분']\n",
        "data_2014 = data_2014[['대학','구분','졸업자_계','취업자_계','건강보험가입취업자_계','건강보험가입교내취업자_계','해외취업자_계']]\n",
        "data_2014.columns = ['대학','계열','졸업자','취업자','교외취업자','교내취업자','해외']\n",
        "for i in range(1,len(data_2014['대학'])):\n",
        "  if '대학'not in data_2014.loc[i,'대학']:\n",
        "    data_2014.loc[i,'대학'] = None\n",
        "data_2014.fillna(method='pad',inplace=True)"
      ],
      "execution_count": 19,
      "outputs": []
    },
    {
      "cell_type": "code",
      "metadata": {
        "id": "Oei45Q5n6XYQ"
      },
      "source": [
        "clean_2014_moon=data_2014[data_2014['계열'].str.contains('인문|사회')].iloc[3:]\n",
        "clean_2014_moon.index = ['2014' for i in range(len(clean_2014_moon['계열']))]\n",
        "clean_2014_lee=data_2014[data_2014['계열'].str.contains('공학|자연')].iloc[3:]\n",
        "clean_2014_lee.index = ['2014' for i in range(len(clean_2014_moon['계열']))]"
      ],
      "execution_count": 20,
      "outputs": []
    },
    {
      "cell_type": "code",
      "metadata": {
        "id": "vgFJnTpQ6kED"
      },
      "source": [
        "data_2015=grd_2015.reset_index()\n",
        "data_2015['대학']=data_2015['구분']\n",
        "data_2015 = data_2015[['대학','구분','졸업자_계','취업자_합계','건강보험가입취업자_계','건강보험가입교내취업자_계','해외취업자_계']]\n",
        "data_2015.columns = ['대학','계열','졸업자','취업자','교외취업자','교내취업자','해외']\n",
        "for i in range(1,len(data_2015['대학'])):\n",
        "  if '대학'not in data_2015.loc[i,'대학']:\n",
        "    data_2015.loc[i,'대학'] = None\n",
        "data_2015.fillna(method='pad',inplace=True)"
      ],
      "execution_count": 21,
      "outputs": []
    },
    {
      "cell_type": "code",
      "metadata": {
        "id": "YObkV-2S6lVo"
      },
      "source": [
        "clean_2015_moon=data_2015[data_2015['계열'].str.contains('인문|사회')].iloc[3:]\n",
        "clean_2015_moon.index = ['2015' for i in range(len(clean_2015_moon['계열']))]\n",
        "clean_2015_lee=data_2015[data_2015['계열'].str.contains('공학|자연')].iloc[3:]\n",
        "clean_2015_lee.index = ['2015' for i in range(len(clean_2015_moon['계열']))]"
      ],
      "execution_count": 22,
      "outputs": []
    },
    {
      "cell_type": "code",
      "metadata": {
        "id": "H76LGKa87ERa"
      },
      "source": [
        "data_2016=grd_2016.reset_index()\n",
        "data_2016['대학']=data_2016['구분']\n",
        "data_2016 = data_2016[['대학','구분','졸업자_계','취업자_합계','건강보험가입교외취업자_계','건강보험가입교내취업자_계','해외취업자_계']]\n",
        "data_2016.columns = ['대학','계열','졸업자','취업자','교외취업자','교내취업자','해외']\n",
        "for i in range(1,len(data_2016['대학'])):\n",
        "  if '대학'not in data_2016.loc[i,'대학']:\n",
        "    data_2016.loc[i,'대학'] = None\n",
        "data_2016.fillna(method='pad',inplace=True)"
      ],
      "execution_count": 23,
      "outputs": []
    },
    {
      "cell_type": "code",
      "metadata": {
        "id": "oF_2tYo77FAl"
      },
      "source": [
        "clean_2016_moon=data_2016[data_2016['계열'].str.contains('인문|사회')].iloc[3:]\n",
        "clean_2016_moon.index = ['2016' for i in range(len(clean_2016_moon['계열']))]\n",
        "clean_2016_lee=data_2016[data_2016['계열'].str.contains('공학|자연')].iloc[3:]\n",
        "clean_2016_lee.index = ['2016' for i in range(len(clean_2016_moon['계열']))]"
      ],
      "execution_count": 24,
      "outputs": []
    },
    {
      "cell_type": "code",
      "metadata": {
        "id": "0ky0ng5i7fZz"
      },
      "source": [
        "lee = pd.concat([clean_2013_lee,clean_2014_lee,clean_2015_lee,clean_2016_lee])\n",
        "moon = pd.concat([clean_2013_moon,clean_2014_moon,clean_2015_moon,clean_2016_moon])"
      ],
      "execution_count": 25,
      "outputs": []
    },
    {
      "cell_type": "code",
      "metadata": {
        "colab": {
          "base_uri": "https://localhost:8080/",
          "height": 669
        },
        "id": "rk9XGMti8_vy",
        "outputId": "e5aedff8-0c9b-4938-b6a5-fa0abf546a44"
      },
      "source": [
        "lee['교외취업자']=pd.to_numeric(lee['교외취업자'],errors='coerce')\n",
        "lee['교내취업자']=pd.to_numeric(lee['교내취업자'],errors='coerce')\n",
        "lee['해외']=pd.to_numeric(lee['해외'],errors='coerce')\n",
        "lee['졸업자']=pd.to_numeric(lee['졸업자'],errors='coerce')\n",
        "lee.fillna(0,inplace=True)\n",
        "lee['취업자'] = lee['교외취업자'] + lee['교내취업자'] + lee['해외']\n",
        "moon['교외취업자']=pd.to_numeric(moon['교외취업자'],errors='coerce')\n",
        "moon['교내취업자']=pd.to_numeric(moon['교내취업자'],errors='coerce')\n",
        "moon['해외']=pd.to_numeric(moon['해외'],errors='coerce')\n",
        "moon['졸업자']=pd.to_numeric(moon['졸업자'],errors='coerce')\n",
        "moon.fillna(0,inplace=True)\n",
        "moon['취업자'] = moon['교외취업자'] + moon['교내취업자'] + moon['해외']\n",
        "moon['취업율'] = moon['취업자']/moon['졸업자'] * 100\n",
        "moon_data = pd.DataFrame(moon.reset_index().groupby(['index','대학'])['취업율'].mean())\n",
        "moon_data\n",
        "lee['취업자'] = lee['교외취업자'] + lee['교내취업자'] + lee['해외']\n",
        "lee['취업율'] = lee['취업자']/lee['졸업자'] * 100\n",
        "lee_data = pd.DataFrame(lee.reset_index().groupby(['index','대학'])['취업율'].mean())\n",
        "lee_data.reset_index()"
      ],
      "execution_count": 26,
      "outputs": [
        {
          "output_type": "execute_result",
          "data": {
            "text/html": [
              "<div>\n",
              "<style scoped>\n",
              "    .dataframe tbody tr th:only-of-type {\n",
              "        vertical-align: middle;\n",
              "    }\n",
              "\n",
              "    .dataframe tbody tr th {\n",
              "        vertical-align: top;\n",
              "    }\n",
              "\n",
              "    .dataframe thead th {\n",
              "        text-align: right;\n",
              "    }\n",
              "</style>\n",
              "<table border=\"1\" class=\"dataframe\">\n",
              "  <thead>\n",
              "    <tr style=\"text-align: right;\">\n",
              "      <th></th>\n",
              "      <th>index</th>\n",
              "      <th>대학</th>\n",
              "      <th>취업율</th>\n",
              "    </tr>\n",
              "  </thead>\n",
              "  <tbody>\n",
              "    <tr>\n",
              "      <th>0</th>\n",
              "      <td>2013</td>\n",
              "      <td>기능대학</td>\n",
              "      <td>77.911773</td>\n",
              "    </tr>\n",
              "    <tr>\n",
              "      <th>1</th>\n",
              "      <td>2013</td>\n",
              "      <td>대학</td>\n",
              "      <td>53.549893</td>\n",
              "    </tr>\n",
              "    <tr>\n",
              "      <th>2</th>\n",
              "      <td>2013</td>\n",
              "      <td>산업대학</td>\n",
              "      <td>57.097718</td>\n",
              "    </tr>\n",
              "    <tr>\n",
              "      <th>3</th>\n",
              "      <td>2013</td>\n",
              "      <td>일반대학원</td>\n",
              "      <td>64.465357</td>\n",
              "    </tr>\n",
              "    <tr>\n",
              "      <th>4</th>\n",
              "      <td>2013</td>\n",
              "      <td>전문대학</td>\n",
              "      <td>52.457281</td>\n",
              "    </tr>\n",
              "    <tr>\n",
              "      <th>5</th>\n",
              "      <td>2014</td>\n",
              "      <td>기능대학</td>\n",
              "      <td>78.826069</td>\n",
              "    </tr>\n",
              "    <tr>\n",
              "      <th>6</th>\n",
              "      <td>2014</td>\n",
              "      <td>대학</td>\n",
              "      <td>52.491141</td>\n",
              "    </tr>\n",
              "    <tr>\n",
              "      <th>7</th>\n",
              "      <td>2014</td>\n",
              "      <td>산업대학</td>\n",
              "      <td>64.526763</td>\n",
              "    </tr>\n",
              "    <tr>\n",
              "      <th>8</th>\n",
              "      <td>2014</td>\n",
              "      <td>일반대학원</td>\n",
              "      <td>62.484668</td>\n",
              "    </tr>\n",
              "    <tr>\n",
              "      <th>9</th>\n",
              "      <td>2014</td>\n",
              "      <td>전문대학</td>\n",
              "      <td>52.020649</td>\n",
              "    </tr>\n",
              "    <tr>\n",
              "      <th>10</th>\n",
              "      <td>2015</td>\n",
              "      <td>기능대학</td>\n",
              "      <td>82.456706</td>\n",
              "    </tr>\n",
              "    <tr>\n",
              "      <th>11</th>\n",
              "      <td>2015</td>\n",
              "      <td>대학</td>\n",
              "      <td>52.334518</td>\n",
              "    </tr>\n",
              "    <tr>\n",
              "      <th>12</th>\n",
              "      <td>2015</td>\n",
              "      <td>산업대학</td>\n",
              "      <td>58.721768</td>\n",
              "    </tr>\n",
              "    <tr>\n",
              "      <th>13</th>\n",
              "      <td>2015</td>\n",
              "      <td>일반대학원</td>\n",
              "      <td>62.867457</td>\n",
              "    </tr>\n",
              "    <tr>\n",
              "      <th>14</th>\n",
              "      <td>2015</td>\n",
              "      <td>전문대학</td>\n",
              "      <td>54.088994</td>\n",
              "    </tr>\n",
              "    <tr>\n",
              "      <th>15</th>\n",
              "      <td>2016</td>\n",
              "      <td>기능대학</td>\n",
              "      <td>83.811378</td>\n",
              "    </tr>\n",
              "    <tr>\n",
              "      <th>16</th>\n",
              "      <td>2016</td>\n",
              "      <td>대학</td>\n",
              "      <td>51.664843</td>\n",
              "    </tr>\n",
              "    <tr>\n",
              "      <th>17</th>\n",
              "      <td>2016</td>\n",
              "      <td>산업대학</td>\n",
              "      <td>62.379701</td>\n",
              "    </tr>\n",
              "    <tr>\n",
              "      <th>18</th>\n",
              "      <td>2016</td>\n",
              "      <td>일반대학원</td>\n",
              "      <td>63.961966</td>\n",
              "    </tr>\n",
              "    <tr>\n",
              "      <th>19</th>\n",
              "      <td>2016</td>\n",
              "      <td>전문대학</td>\n",
              "      <td>54.632233</td>\n",
              "    </tr>\n",
              "  </tbody>\n",
              "</table>\n",
              "</div>"
            ],
            "text/plain": [
              "   index     대학        취업율\n",
              "0   2013   기능대학  77.911773\n",
              "1   2013     대학  53.549893\n",
              "2   2013   산업대학  57.097718\n",
              "3   2013  일반대학원  64.465357\n",
              "4   2013   전문대학  52.457281\n",
              "5   2014   기능대학  78.826069\n",
              "6   2014     대학  52.491141\n",
              "7   2014   산업대학  64.526763\n",
              "8   2014  일반대학원  62.484668\n",
              "9   2014   전문대학  52.020649\n",
              "10  2015   기능대학  82.456706\n",
              "11  2015     대학  52.334518\n",
              "12  2015   산업대학  58.721768\n",
              "13  2015  일반대학원  62.867457\n",
              "14  2015   전문대학  54.088994\n",
              "15  2016   기능대학  83.811378\n",
              "16  2016     대학  51.664843\n",
              "17  2016   산업대학  62.379701\n",
              "18  2016  일반대학원  63.961966\n",
              "19  2016   전문대학  54.632233"
            ]
          },
          "metadata": {
            "tags": []
          },
          "execution_count": 26
        }
      ]
    },
    {
      "cell_type": "markdown",
      "metadata": {
        "id": "crjalRJEsxRC"
      },
      "source": [
        "##시각화"
      ]
    },
    {
      "cell_type": "code",
      "metadata": {
        "colab": {
          "base_uri": "https://localhost:8080/",
          "height": 459
        },
        "id": "3Egd-06LBL3O",
        "outputId": "26211be9-d522-4415-e6d2-85269ef0c066"
      },
      "source": [
        "plt.figure(figsize=(15,7))\n",
        "sns.barplot(data=moon_data.reset_index(),x='index',y='취업율',hue='대학')"
      ],
      "execution_count": 27,
      "outputs": [
        {
          "output_type": "execute_result",
          "data": {
            "text/plain": [
              "<matplotlib.axes._subplots.AxesSubplot at 0x7fdf46a90c10>"
            ]
          },
          "metadata": {
            "tags": []
          },
          "execution_count": 27
        },
        {
          "output_type": "display_data",
          "data": {
            "image/png": "[encoded data removed]",
            "text/plain": [
              "<Figure size 1080x504 with 1 Axes>"
            ]
          },
          "metadata": {
            "tags": [],
            "image/png": {
              "width": 884,
              "height": 424
            },
            "needs_background": "light"
          }
        }
      ]
    },
    {
      "cell_type": "code",
      "metadata": {
        "colab": {
          "base_uri": "https://localhost:8080/",
          "height": 459
        },
        "id": "Jrw73VD9CwJh",
        "outputId": "ce46df53-5bc7-4d79-fc43-1a1b00f0365d"
      },
      "source": [
        "plt.figure(figsize=(15,7))\n",
        "sns.barplot(data=lee_data.reset_index(),x='index',y='취업율',hue='대학')"
      ],
      "execution_count": 28,
      "outputs": [
        {
          "output_type": "execute_result",
          "data": {
            "text/plain": [
              "<matplotlib.axes._subplots.AxesSubplot at 0x7fdf464f0e90>"
            ]
          },
          "metadata": {
            "tags": []
          },
          "execution_count": 28
        },
        {
          "output_type": "display_data",
          "data": {
            "image/png": "[encoded data removed]",
            "text/plain": [
              "<Figure size 1080x504 with 1 Axes>"
            ]
          },
          "metadata": {
            "tags": [],
            "image/png": {
              "width": 884,
              "height": 424
            },
            "needs_background": "light"
          }
        }
      ]
    }
  ]
}