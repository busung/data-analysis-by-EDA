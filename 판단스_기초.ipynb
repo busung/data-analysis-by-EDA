{
  "nbformat": 4,
  "nbformat_minor": 0,
  "metadata": {
    "colab": {
      "name": "판단스 기초.ipynb",
      "provenance": [],
      "collapsed_sections": [],
      "authorship_tag": "ABX9TyMhD0fb66Lmkpdh6jAkEuOG",
      "include_colab_link": true
    },
    "kernelspec": {
      "name": "python3",
      "display_name": "Python 3"
    },
    "language_info": {
      "name": "python"
    }
  },
  "cells": [
    {
      "cell_type": "markdown",
      "metadata": {
        "id": "view-in-github",
        "colab_type": "text"
      },
      "source": [
        "<a href=\"https://colab.research.google.com/github/busung/data-analysis-by-EDA/blob/main/%ED%8C%90%EB%8B%A8%EC%8A%A4_%EA%B8%B0%EC%B4%88.ipynb\" target=\"_parent\"><img src=\"https://colab.research.google.com/assets/colab-badge.svg\" alt=\"Open In Colab\"/></a>"
      ]
    },
    {
      "cell_type": "code",
      "metadata": {
        "id": "CacQCPisMPsu"
      },
      "source": [
        "import pandas as pd\n",
        "import seaborn as sns"
      ],
      "execution_count": 2,
      "outputs": []
    },
    {
      "cell_type": "markdown",
      "metadata": {
        "id": "b1NTcFeiMgmN"
      },
      "source": [
        "# 시리즈와 데이터프레임\n",
        "\n"
      ]
    },
    {
      "cell_type": "markdown",
      "metadata": {
        "id": "rxhDSurTUa5x"
      },
      "source": [
        "## 시리즈(Series)"
      ]
    },
    {
      "cell_type": "code",
      "metadata": {
        "id": "amNQ3418Og3t"
      },
      "source": [
        "list_=[\"Dog\",\"Cat\",\"Tiger\",\"Lion\",\"Monkey\"]"
      ],
      "execution_count": null,
      "outputs": []
    },
    {
      "cell_type": "code",
      "metadata": {
        "colab": {
          "base_uri": "https://localhost:8080/"
        },
        "id": "R3lTjwRPRozw",
        "outputId": "8a65a196-922f-4cf6-f71e-b25ae5e6d041"
      },
      "source": [
        "{\"0\":\"Dog\",\"1\":\"Cat\",\"2\":\"Tiger\",\"3\":\"Lion\",\"4\":\"Monkey\"}"
      ],
      "execution_count": null,
      "outputs": [
        {
          "output_type": "execute_result",
          "data": {
            "text/plain": [
              "{'0': 'Dog', '1': 'Cat', '2': 'Tiger', '3': 'Lion', '4': 'Monkey'}"
            ]
          },
          "metadata": {
            "tags": []
          },
          "execution_count": 26
        }
      ]
    },
    {
      "cell_type": "code",
      "metadata": {
        "colab": {
          "base_uri": "https://localhost:8080/"
        },
        "id": "QNx1EPP-TPqg",
        "outputId": "dd538aed-a2d8-4ca0-a077-a36cc59ec9d7"
      },
      "source": [
        "{\"11\":\"Dog\",\"12\":\"Cat\",\"13\":\"Tiger\",\"14\":\"Lion\",\"15\":\"Monkey\"}"
      ],
      "execution_count": null,
      "outputs": [
        {
          "output_type": "execute_result",
          "data": {
            "text/plain": [
              "{'11': 'Dog', '12': 'Cat', '13': 'Tiger', '14': 'Lion', '15': 'Monkey'}"
            ]
          },
          "metadata": {
            "tags": []
          },
          "execution_count": 27
        }
      ]
    },
    {
      "cell_type": "code",
      "metadata": {
        "colab": {
          "base_uri": "https://localhost:8080/"
        },
        "id": "fQj8ND4XR0R5",
        "outputId": "3cfa95a5-8c00-4ebe-e05b-bcdd29a73a01"
      },
      "source": [
        "#Series 생성 연습\n",
        "ser=pd.Series(list_,index=[11,12,13,14,15])#인덱스 지정\n",
        "ind_ser=pd.Series({\"11\":\"Dog\",\"12\":\"Cat\",\"13\":\"Tiger\",\"14\":\"Lion\",\"15\":\"Monkey\"})#dic을 이용한 인덱스 지정\n",
        "print(ser,ind_ser)"
      ],
      "execution_count": null,
      "outputs": [
        {
          "output_type": "stream",
          "text": [
            "11       Dog\n",
            "12       Cat\n",
            "13     Tiger\n",
            "14      Lion\n",
            "15    Monkey\n",
            "dtype: object 11       Dog\n",
            "12       Cat\n",
            "13     Tiger\n",
            "14      Lion\n",
            "15    Monkey\n",
            "dtype: object\n"
          ],
          "name": "stdout"
        }
      ]
    },
    {
      "cell_type": "code",
      "metadata": {
        "colab": {
          "base_uri": "https://localhost:8080/"
        },
        "id": "5W9A5A3RTys4",
        "outputId": "8b672569-c474-466b-d848-1a90c9d1161a"
      },
      "source": [
        "ser=pd.Series(list_,index=[\"뭐\",12,13,14,15])#index는 꼭 숫자가 아니여도 됨\n",
        "ser"
      ],
      "execution_count": null,
      "outputs": [
        {
          "output_type": "execute_result",
          "data": {
            "text/plain": [
              "뭐        Dog\n",
              "12       Cat\n",
              "13     Tiger\n",
              "14      Lion\n",
              "15    Monkey\n",
              "dtype: object"
            ]
          },
          "metadata": {
            "tags": []
          },
          "execution_count": 29
        }
      ]
    },
    {
      "cell_type": "code",
      "metadata": {
        "colab": {
          "base_uri": "https://localhost:8080/"
        },
        "id": "g8YIrepAVLOs",
        "outputId": "b4d7f220-18bd-4be9-b1c1-bfc41dd34660"
      },
      "source": [
        "# 튜플로 Series 생성\n",
        "pd.Series((\"이상혁\",\"페이커\",\"미드\"),index=[\"이름\",\"닉네임\",\"포지션\"])"
      ],
      "execution_count": null,
      "outputs": [
        {
          "output_type": "execute_result",
          "data": {
            "text/plain": [
              "이름     이상혁\n",
              "닉네임    페이커\n",
              "포지션     미드\n",
              "dtype: object"
            ]
          },
          "metadata": {
            "tags": []
          },
          "execution_count": 30
        }
      ]
    },
    {
      "cell_type": "markdown",
      "metadata": {
        "id": "F4bE8YXkVtjS"
      },
      "source": [
        "## 데이터프레임(DataFrame)"
      ]
    },
    {
      "cell_type": "code",
      "metadata": {
        "colab": {
          "base_uri": "https://localhost:8080/"
        },
        "id": "HJxhYeL1V0jd",
        "outputId": "c7c361dd-c09e-45d2-a925-760a25ccb24a"
      },
      "source": [
        "#dic을 활용한 DataFrame 만들기(열 단위 행렬)\n",
        "data={\"동물\":[\"Dog\",\"Cat\",\"Tiger\",\"Lion\",\"Monkey\"],\"나이\":[5,5,5,5,4]}#value에는 list도 가능하므로\n",
        "data"
      ],
      "execution_count": null,
      "outputs": [
        {
          "output_type": "execute_result",
          "data": {
            "text/plain": [
              "{'나이': [5, 5, 5, 5, 4], '동물': ['Dog', 'Cat', 'Tiger', 'Lion', 'Monkey']}"
            ]
          },
          "metadata": {
            "tags": []
          },
          "execution_count": 31
        }
      ]
    },
    {
      "cell_type": "code",
      "metadata": {
        "colab": {
          "base_uri": "https://localhost:8080/",
          "height": 206
        },
        "id": "j_14tmyHW_lI",
        "outputId": "794af1a7-ac1f-4bdb-8f40-2d80dc625eae"
      },
      "source": [
        "pd.DataFrame(data)"
      ],
      "execution_count": null,
      "outputs": [
        {
          "output_type": "execute_result",
          "data": {
            "text/html": [
              "<div>\n",
              "<style scoped>\n",
              "    .dataframe tbody tr th:only-of-type {\n",
              "        vertical-align: middle;\n",
              "    }\n",
              "\n",
              "    .dataframe tbody tr th {\n",
              "        vertical-align: top;\n",
              "    }\n",
              "\n",
              "    .dataframe thead th {\n",
              "        text-align: right;\n",
              "    }\n",
              "</style>\n",
              "<table border=\"1\" class=\"dataframe\">\n",
              "  <thead>\n",
              "    <tr style=\"text-align: right;\">\n",
              "      <th></th>\n",
              "      <th>동물</th>\n",
              "      <th>나이</th>\n",
              "    </tr>\n",
              "  </thead>\n",
              "  <tbody>\n",
              "    <tr>\n",
              "      <th>0</th>\n",
              "      <td>Dog</td>\n",
              "      <td>5</td>\n",
              "    </tr>\n",
              "    <tr>\n",
              "      <th>1</th>\n",
              "      <td>Cat</td>\n",
              "      <td>5</td>\n",
              "    </tr>\n",
              "    <tr>\n",
              "      <th>2</th>\n",
              "      <td>Tiger</td>\n",
              "      <td>5</td>\n",
              "    </tr>\n",
              "    <tr>\n",
              "      <th>3</th>\n",
              "      <td>Lion</td>\n",
              "      <td>5</td>\n",
              "    </tr>\n",
              "    <tr>\n",
              "      <th>4</th>\n",
              "      <td>Monkey</td>\n",
              "      <td>4</td>\n",
              "    </tr>\n",
              "  </tbody>\n",
              "</table>\n",
              "</div>"
            ],
            "text/plain": [
              "       동물  나이\n",
              "0     Dog   5\n",
              "1     Cat   5\n",
              "2   Tiger   5\n",
              "3    Lion   5\n",
              "4  Monkey   4"
            ]
          },
          "metadata": {
            "tags": []
          },
          "execution_count": 32
        }
      ]
    },
    {
      "cell_type": "code",
      "metadata": {
        "colab": {
          "base_uri": "https://localhost:8080/",
          "height": 206
        },
        "id": "QGkHWjXMXT2j",
        "outputId": "2728b674-7504-4ac0-ecb0-b0b3ef2caba3"
      },
      "source": [
        "#list를 이용한 DataFrame 만들기(행 단위 행렬)\n",
        "list_data=[[\"Dog\",5],[\"Cat\",5],[\"Tiger\",5],[\"Lion\",5],[\"Monkey\",4]]\n",
        "pd.DataFrame(list_data,columns=[\"동물\",\"나이\"])"
      ],
      "execution_count": null,
      "outputs": [
        {
          "output_type": "execute_result",
          "data": {
            "text/html": [
              "<div>\n",
              "<style scoped>\n",
              "    .dataframe tbody tr th:only-of-type {\n",
              "        vertical-align: middle;\n",
              "    }\n",
              "\n",
              "    .dataframe tbody tr th {\n",
              "        vertical-align: top;\n",
              "    }\n",
              "\n",
              "    .dataframe thead th {\n",
              "        text-align: right;\n",
              "    }\n",
              "</style>\n",
              "<table border=\"1\" class=\"dataframe\">\n",
              "  <thead>\n",
              "    <tr style=\"text-align: right;\">\n",
              "      <th></th>\n",
              "      <th>동물</th>\n",
              "      <th>나이</th>\n",
              "    </tr>\n",
              "  </thead>\n",
              "  <tbody>\n",
              "    <tr>\n",
              "      <th>0</th>\n",
              "      <td>Dog</td>\n",
              "      <td>5</td>\n",
              "    </tr>\n",
              "    <tr>\n",
              "      <th>1</th>\n",
              "      <td>Cat</td>\n",
              "      <td>5</td>\n",
              "    </tr>\n",
              "    <tr>\n",
              "      <th>2</th>\n",
              "      <td>Tiger</td>\n",
              "      <td>5</td>\n",
              "    </tr>\n",
              "    <tr>\n",
              "      <th>3</th>\n",
              "      <td>Lion</td>\n",
              "      <td>5</td>\n",
              "    </tr>\n",
              "    <tr>\n",
              "      <th>4</th>\n",
              "      <td>Monkey</td>\n",
              "      <td>4</td>\n",
              "    </tr>\n",
              "  </tbody>\n",
              "</table>\n",
              "</div>"
            ],
            "text/plain": [
              "       동물  나이\n",
              "0     Dog   5\n",
              "1     Cat   5\n",
              "2   Tiger   5\n",
              "3    Lion   5\n",
              "4  Monkey   4"
            ]
          },
          "metadata": {
            "tags": []
          },
          "execution_count": 36
        }
      ]
    },
    {
      "cell_type": "code",
      "metadata": {
        "colab": {
          "base_uri": "https://localhost:8080/",
          "height": 143
        },
        "id": "rBTO-Q0ooc2i",
        "outputId": "c0568bb5-1787-4b1a-f6ca-121ea39323bb"
      },
      "source": [
        "#dict을 이용한 데이터 프레임\n",
        "dict_data={\"account\":[\"Jones LLC\",\"Alpha Co\",\"Blue Inc\"],\"Jan\":[150,200,50],\"Feb\":[200,210,90],\"Mar\":[140,215,95]}\n",
        "pd.DataFrame(dict_data)"
      ],
      "execution_count": 3,
      "outputs": [
        {
          "output_type": "execute_result",
          "data": {
            "text/html": [
              "<div>\n",
              "<style scoped>\n",
              "    .dataframe tbody tr th:only-of-type {\n",
              "        vertical-align: middle;\n",
              "    }\n",
              "\n",
              "    .dataframe tbody tr th {\n",
              "        vertical-align: top;\n",
              "    }\n",
              "\n",
              "    .dataframe thead th {\n",
              "        text-align: right;\n",
              "    }\n",
              "</style>\n",
              "<table border=\"1\" class=\"dataframe\">\n",
              "  <thead>\n",
              "    <tr style=\"text-align: right;\">\n",
              "      <th></th>\n",
              "      <th>account</th>\n",
              "      <th>Jan</th>\n",
              "      <th>Feb</th>\n",
              "      <th>Mar</th>\n",
              "    </tr>\n",
              "  </thead>\n",
              "  <tbody>\n",
              "    <tr>\n",
              "      <th>0</th>\n",
              "      <td>Jones LLC</td>\n",
              "      <td>150</td>\n",
              "      <td>200</td>\n",
              "      <td>140</td>\n",
              "    </tr>\n",
              "    <tr>\n",
              "      <th>1</th>\n",
              "      <td>Alpha Co</td>\n",
              "      <td>200</td>\n",
              "      <td>210</td>\n",
              "      <td>215</td>\n",
              "    </tr>\n",
              "    <tr>\n",
              "      <th>2</th>\n",
              "      <td>Blue Inc</td>\n",
              "      <td>50</td>\n",
              "      <td>90</td>\n",
              "      <td>95</td>\n",
              "    </tr>\n",
              "  </tbody>\n",
              "</table>\n",
              "</div>"
            ],
            "text/plain": [
              "     account  Jan  Feb  Mar\n",
              "0  Jones LLC  150  200  140\n",
              "1   Alpha Co  200  210  215\n",
              "2   Blue Inc   50   90   95"
            ]
          },
          "metadata": {
            "tags": []
          },
          "execution_count": 3
        }
      ]
    },
    {
      "cell_type": "code",
      "metadata": {
        "colab": {
          "base_uri": "https://localhost:8080/",
          "height": 143
        },
        "id": "moKG4oSEpFxX",
        "outputId": "1959be8b-759b-4e8f-ec9d-28e48c254e2f"
      },
      "source": [
        "#이중배열을 이용한 데이터 프레임\n",
        "list_data=[[\"Jones LLC\",150,200,140],[\"Alpha Co\",200,210,215],[\"Blue Inc\",50,90,95]]\n",
        "pd.DataFrame(list_data,columns=[\"acoount\",\"Jan\",\"Feb\",\"Mar\"])"
      ],
      "execution_count": 8,
      "outputs": [
        {
          "output_type": "execute_result",
          "data": {
            "text/html": [
              "<div>\n",
              "<style scoped>\n",
              "    .dataframe tbody tr th:only-of-type {\n",
              "        vertical-align: middle;\n",
              "    }\n",
              "\n",
              "    .dataframe tbody tr th {\n",
              "        vertical-align: top;\n",
              "    }\n",
              "\n",
              "    .dataframe thead th {\n",
              "        text-align: right;\n",
              "    }\n",
              "</style>\n",
              "<table border=\"1\" class=\"dataframe\">\n",
              "  <thead>\n",
              "    <tr style=\"text-align: right;\">\n",
              "      <th></th>\n",
              "      <th>acoount</th>\n",
              "      <th>Jan</th>\n",
              "      <th>Feb</th>\n",
              "      <th>Mar</th>\n",
              "    </tr>\n",
              "  </thead>\n",
              "  <tbody>\n",
              "    <tr>\n",
              "      <th>0</th>\n",
              "      <td>Jones LLC</td>\n",
              "      <td>150</td>\n",
              "      <td>200</td>\n",
              "      <td>140</td>\n",
              "    </tr>\n",
              "    <tr>\n",
              "      <th>1</th>\n",
              "      <td>Alpha Co</td>\n",
              "      <td>200</td>\n",
              "      <td>210</td>\n",
              "      <td>215</td>\n",
              "    </tr>\n",
              "    <tr>\n",
              "      <th>2</th>\n",
              "      <td>Blue Inc</td>\n",
              "      <td>50</td>\n",
              "      <td>90</td>\n",
              "      <td>95</td>\n",
              "    </tr>\n",
              "  </tbody>\n",
              "</table>\n",
              "</div>"
            ],
            "text/plain": [
              "     acoount  Jan  Feb  Mar\n",
              "0  Jones LLC  150  200  140\n",
              "1   Alpha Co  200  210  215\n",
              "2   Blue Inc   50   90   95"
            ]
          },
          "metadata": {
            "tags": []
          },
          "execution_count": 8
        }
      ]
    },
    {
      "cell_type": "markdown",
      "metadata": {
        "id": "WtFEifFFaHm7"
      },
      "source": [
        "#데이터 프레임 조작"
      ]
    },
    {
      "cell_type": "code",
      "metadata": {
        "colab": {
          "base_uri": "https://localhost:8080/"
        },
        "id": "yF9o0q6Xaceu",
        "outputId": "888e3e34-8ef8-4e47-c21c-8543f563bbac"
      },
      "source": [
        "tips = sns.load_dataset(\"tips\")\n",
        "tips.info()#data의 요약정보"
      ],
      "execution_count": null,
      "outputs": [
        {
          "output_type": "stream",
          "text": [
            "<class 'pandas.core.frame.DataFrame'>\n",
            "RangeIndex: 244 entries, 0 to 243\n",
            "Data columns (total 7 columns):\n",
            " #   Column      Non-Null Count  Dtype   \n",
            "---  ------      --------------  -----   \n",
            " 0   total_bill  244 non-null    float64 \n",
            " 1   tip         244 non-null    float64 \n",
            " 2   sex         244 non-null    category\n",
            " 3   smoker      244 non-null    category\n",
            " 4   day         244 non-null    category\n",
            " 5   time        244 non-null    category\n",
            " 6   size        244 non-null    int64   \n",
            "dtypes: category(4), float64(2), int64(1)\n",
            "memory usage: 7.3 KB\n"
          ],
          "name": "stdout"
        }
      ]
    }
  ]
}